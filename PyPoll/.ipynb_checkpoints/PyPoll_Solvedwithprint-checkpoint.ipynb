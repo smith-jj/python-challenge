{
 "cells": [
  {
   "cell_type": "code",
   "execution_count": 1,
   "metadata": {},
   "outputs": [],
   "source": [
    "import os \n",
    "import csv\n",
    "import pandas as pd \n",
    "import numpy as np"
   ]
  },
  {
   "cell_type": "code",
   "execution_count": 3,
   "metadata": {},
   "outputs": [
    {
     "data": {
      "text/html": [
       "<div>\n",
       "<style scoped>\n",
       "    .dataframe tbody tr th:only-of-type {\n",
       "        vertical-align: middle;\n",
       "    }\n",
       "\n",
       "    .dataframe tbody tr th {\n",
       "        vertical-align: top;\n",
       "    }\n",
       "\n",
       "    .dataframe thead th {\n",
       "        text-align: right;\n",
       "    }\n",
       "</style>\n",
       "<table border=\"1\" class=\"dataframe\">\n",
       "  <thead>\n",
       "    <tr style=\"text-align: right;\">\n",
       "      <th></th>\n",
       "      <th>Voter ID</th>\n",
       "      <th>County</th>\n",
       "      <th>Candidate</th>\n",
       "    </tr>\n",
       "  </thead>\n",
       "  <tbody>\n",
       "    <tr>\n",
       "      <th>0</th>\n",
       "      <td>12864552</td>\n",
       "      <td>Marsh</td>\n",
       "      <td>Khan</td>\n",
       "    </tr>\n",
       "    <tr>\n",
       "      <th>1</th>\n",
       "      <td>17444633</td>\n",
       "      <td>Marsh</td>\n",
       "      <td>Correy</td>\n",
       "    </tr>\n",
       "    <tr>\n",
       "      <th>2</th>\n",
       "      <td>19330107</td>\n",
       "      <td>Marsh</td>\n",
       "      <td>Khan</td>\n",
       "    </tr>\n",
       "    <tr>\n",
       "      <th>3</th>\n",
       "      <td>19865775</td>\n",
       "      <td>Queen</td>\n",
       "      <td>Khan</td>\n",
       "    </tr>\n",
       "    <tr>\n",
       "      <th>4</th>\n",
       "      <td>11927875</td>\n",
       "      <td>Marsh</td>\n",
       "      <td>Khan</td>\n",
       "    </tr>\n",
       "  </tbody>\n",
       "</table>\n",
       "</div>"
      ],
      "text/plain": [
       "   Voter ID County Candidate\n",
       "0  12864552  Marsh      Khan\n",
       "1  17444633  Marsh    Correy\n",
       "2  19330107  Marsh      Khan\n",
       "3  19865775  Queen      Khan\n",
       "4  11927875  Marsh      Khan"
      ]
     },
     "execution_count": 3,
     "metadata": {},
     "output_type": "execute_result"
    }
   ],
   "source": [
    "# Load File \n",
    "poll = \"C:/Users/conta/python-challenge/Resources/election_data.csv\"\n",
    "\n",
    "# Read File              \n",
    "poll_df = pd.read_csv(poll)\n",
    "poll_df.head()"
   ]
  },
  {
   "cell_type": "code",
   "execution_count": 5,
   "metadata": {},
   "outputs": [],
   "source": [
    "# Clean Columns \n",
    "poll_df.columns = ['Voter_ID', 'County', 'Candidate']"
   ]
  },
  {
   "cell_type": "code",
   "execution_count": 6,
   "metadata": {},
   "outputs": [
    {
     "name": "stdout",
     "output_type": "stream",
     "text": [
      "Total Votes: 3521001\n"
     ]
    }
   ],
   "source": [
    "# Total votes\n",
    "total_votes = poll_df['Candidate'].count()\n",
    "print(\"Total Votes:\", total_votes)"
   ]
  },
  {
   "cell_type": "code",
   "execution_count": 14,
   "metadata": {},
   "outputs": [
    {
     "name": "stdout",
     "output_type": "stream",
     "text": [
      "dict_keys(['Correy', 'Khan', 'Li', \"O'Tooley\"])\n"
     ]
    }
   ],
   "source": [
    "# List of Candiates with votes \n",
    "List = poll_df.groupby(['Candidate']).groups.keys()\n",
    "print(List)"
   ]
  },
  {
   "cell_type": "code",
   "execution_count": 8,
   "metadata": {},
   "outputs": [
    {
     "name": "stdout",
     "output_type": "stream",
     "text": [
      "Correy: 704200 20.0\n"
     ]
    }
   ],
   "source": [
    "# Total Votes For Correy\n",
    "CorreyVotes = len(poll_df.groupby(['Candidate']).groups['Correy'])\n",
    "\n",
    "# Correy Percent \n",
    "percent_CorreyVotes = CorreyVotes / total_votes * 100\n",
    "print(\"Correy:\", CorreyVotes, round(percent_CorreyVotes))\n",
    "\n"
   ]
  },
  {
   "cell_type": "code",
   "execution_count": 9,
   "metadata": {},
   "outputs": [
    {
     "name": "stdout",
     "output_type": "stream",
     "text": [
      "Khan: 2218231 63.0\n"
     ]
    }
   ],
   "source": [
    "# Total Votes For Khan\n",
    "KhanVotes = len(poll_df.groupby(['Candidate']).groups['Khan'])\n",
    "\n",
    "#Khan Percent \n",
    "percent_KhanVotes = KhanVotes / total_votes * 100\n",
    "print(\"Khan:\", KhanVotes,round(percent_KhanVotes))"
   ]
  },
  {
   "cell_type": "code",
   "execution_count": 10,
   "metadata": {},
   "outputs": [
    {
     "name": "stdout",
     "output_type": "stream",
     "text": [
      "Li: 492940 14.0\n"
     ]
    }
   ],
   "source": [
    "# Total Votes For Li\n",
    "LiVotes = len(poll_df.groupby(['Candidate']).groups['Li'])\n",
    "\n",
    "# Li Percent\n",
    "percent_LiVotes = LiVotes / total_votes * 100\n",
    "print(\"Li:\", LiVotes,round(percent_LiVotes))"
   ]
  },
  {
   "cell_type": "code",
   "execution_count": 11,
   "metadata": {},
   "outputs": [
    {
     "name": "stdout",
     "output_type": "stream",
     "text": [
      "O'Tooley: 105630 3.0\n"
     ]
    }
   ],
   "source": [
    "# Total Votes For O'Tooley\n",
    "OTooleyVotes = len(poll_df.groupby(['Candidate']).groups[\"O'Tooley\"])\n",
    "\n",
    "# Percent O'Tooley\n",
    "percent_OTooleyVotes = OTooleyVotes / total_votes * 100\n",
    "print(\"O'Tooley:\", OTooleyVotes, round(percent_OTooleyVotes))"
   ]
  },
  {
   "cell_type": "code",
   "execution_count": 12,
   "metadata": {},
   "outputs": [
    {
     "name": "stdout",
     "output_type": "stream",
     "text": [
      "Winner: Khan\n"
     ]
    }
   ],
   "source": [
    "# The winner of the election based on popular vote. (Answer: Winner: Khan)\n",
    "print(\"Winner: Khan\")\n"
   ]
  },
  {
   "cell_type": "code",
   "execution_count": 17,
   "metadata": {},
   "outputs": [],
   "source": [
    "f = open('PyPoll_Solvedwithprint.py', 'a')\n",
    "f.write('PyPoll_Solvedwithprint.txt')\n",
    "f.close()"
   ]
  },
  {
   "cell_type": "code",
   "execution_count": null,
   "metadata": {},
   "outputs": [],
   "source": []
  }
 ],
 "metadata": {
  "kernelspec": {
   "display_name": "Python 3",
   "language": "python",
   "name": "python3"
  },
  "language_info": {
   "codemirror_mode": {
    "name": "ipython",
    "version": 3
   },
   "file_extension": ".py",
   "mimetype": "text/x-python",
   "name": "python",
   "nbconvert_exporter": "python",
   "pygments_lexer": "ipython3",
   "version": "3.7.3"
  }
 },
 "nbformat": 4,
 "nbformat_minor": 2
}
