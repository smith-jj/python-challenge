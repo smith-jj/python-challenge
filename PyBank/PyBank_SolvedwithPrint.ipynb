{
 "cells": [
  {
   "cell_type": "code",
   "execution_count": 1,
   "metadata": {},
   "outputs": [],
   "source": [
    "# Create Imports \n",
    "import os \n",
    "import csv \n",
    "import sys \n",
    "import numpy as np\n",
    "import pandas as pd "
   ]
  },
  {
   "cell_type": "code",
   "execution_count": 2,
   "metadata": {},
   "outputs": [
    {
     "data": {
      "text/html": [
       "<div>\n",
       "<style scoped>\n",
       "    .dataframe tbody tr th:only-of-type {\n",
       "        vertical-align: middle;\n",
       "    }\n",
       "\n",
       "    .dataframe tbody tr th {\n",
       "        vertical-align: top;\n",
       "    }\n",
       "\n",
       "    .dataframe thead th {\n",
       "        text-align: right;\n",
       "    }\n",
       "</style>\n",
       "<table border=\"1\" class=\"dataframe\">\n",
       "  <thead>\n",
       "    <tr style=\"text-align: right;\">\n",
       "      <th></th>\n",
       "      <th>Date</th>\n",
       "      <th>Profit/Losses</th>\n",
       "    </tr>\n",
       "  </thead>\n",
       "  <tbody>\n",
       "    <tr>\n",
       "      <th>0</th>\n",
       "      <td>Jan-2010</td>\n",
       "      <td>867884</td>\n",
       "    </tr>\n",
       "    <tr>\n",
       "      <th>1</th>\n",
       "      <td>Feb-2010</td>\n",
       "      <td>984655</td>\n",
       "    </tr>\n",
       "    <tr>\n",
       "      <th>2</th>\n",
       "      <td>Mar-2010</td>\n",
       "      <td>322013</td>\n",
       "    </tr>\n",
       "    <tr>\n",
       "      <th>3</th>\n",
       "      <td>Apr-2010</td>\n",
       "      <td>-69417</td>\n",
       "    </tr>\n",
       "    <tr>\n",
       "      <th>4</th>\n",
       "      <td>May-2010</td>\n",
       "      <td>310503</td>\n",
       "    </tr>\n",
       "  </tbody>\n",
       "</table>\n",
       "</div>"
      ],
      "text/plain": [
       "       Date  Profit/Losses\n",
       "0  Jan-2010         867884\n",
       "1  Feb-2010         984655\n",
       "2  Mar-2010         322013\n",
       "3  Apr-2010         -69417\n",
       "4  May-2010         310503"
      ]
     },
     "execution_count": 2,
     "metadata": {},
     "output_type": "execute_result"
    }
   ],
   "source": [
    "# Load File \n",
    "budget = \"../03-Python/Resources/budget_data.csv\"\n",
    "\n",
    "# Read File              \n",
    "budget_df = pd.read_csv(budget)\n",
    "budget_df.head()"
   ]
  },
  {
   "cell_type": "code",
   "execution_count": 4,
   "metadata": {
    "scrolled": true
   },
   "outputs": [],
   "source": [
    "budget_df.columns = ['Date', 'Profit_Losses']"
   ]
  },
  {
   "cell_type": "code",
   "execution_count": 5,
   "metadata": {},
   "outputs": [
    {
     "name": "stdout",
     "output_type": "stream",
     "text": [
      "Financial Analysis\n",
      "Total Months:  86\n",
      "Total: $ 38382578\n",
      "Average Change: $ -2315.12\n",
      "Greatest Increase in Profits: Feb-2012 $ 1926159.0\n",
      "Greatest Decrease in Profits: Sep-2013 $ -2196167.0\n"
     ]
    }
   ],
   "source": [
    "# Total number of months included in the dataset (Total Months: 86)\n",
    "total_months = len(budget_df.index)\n",
    "\n",
    "\n",
    "# Net total amount of \"Profit/Losses\" over the entire period (Answer: $38382578)\n",
    "net_pl = budget_df['Profit_Losses'].sum()\n",
    "\n",
    "\n",
    "# The average of the changes in \"Profit/Losses\" over the entire period  (Answer: Average Change: $-2315.12)\n",
    "change = budget_df['Profit_Losses'].diff()\n",
    "pl_change = change.mean()\n",
    "\n",
    "\n",
    "# The greatest increase in profits (date and amount) over the entire period (Answer: Feb-2012 ($1926159))\n",
    "maxProf_date = budget_df.loc[budget_df['Profit_Losses'].idxmax(), 'Date']\n",
    "maxProf = change.max()\n",
    "\n",
    "\n",
    "# The greatest decrease in losses (date and amount) over the entire period (Answer: Sep-2013 ($-2196167))\n",
    "\n",
    "maxLoss_date = budget_df.loc[budget_df['Profit_Losses'].idxmin(), 'Date']\n",
    "maxLoss = change.min()\n",
    "\n",
    "\n",
    "print('Financial Analysis')\n",
    "print('Total Months: ' , total_months)\n",
    "print('Total: $',net_pl)\n",
    "print ('Average Change: $',round(pl_change,2))\n",
    "print('Greatest Increase in Profits:', maxProf_date, \"$\",maxProf)\n",
    "print('Greatest Decrease in Profits:', maxLoss_date, \"$\", maxLoss)"
   ]
  },
  {
   "cell_type": "code",
   "execution_count": null,
   "metadata": {},
   "outputs": [],
   "source": [
    "sys.stdout=open(\"PyBank_SolvedwithPrint.csv\",'w')\n",
    "print('Financial Analysis')\n",
    "print('Total Months: ' , total_months)\n",
    "print('Total: $',net_pl)\n",
    "print ('Average Change: $',round(pl_change,2))\n",
    "print('Greatest Increase in Profits:', maxProf_date, \"$\",maxProf)\n",
    "print('Greatest Decrease in Profits:', maxLoss_date, \"$\", maxLoss)\n",
    "sys.stdout.close()"
   ]
  },
  {
   "cell_type": "code",
   "execution_count": null,
   "metadata": {},
   "outputs": [],
   "source": []
  }
 ],
 "metadata": {
  "kernelspec": {
   "display_name": "Python 3",
   "language": "python",
   "name": "python3"
  },
  "language_info": {
   "codemirror_mode": {
    "name": "ipython",
    "version": 3
   },
   "file_extension": ".py",
   "mimetype": "text/x-python",
   "name": "python",
   "nbconvert_exporter": "python",
   "pygments_lexer": "ipython3",
   "version": "3.7.3"
  }
 },
 "nbformat": 4,
 "nbformat_minor": 2
}
